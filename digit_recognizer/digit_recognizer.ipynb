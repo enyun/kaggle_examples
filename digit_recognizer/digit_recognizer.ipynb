{
 "cells": [
  {
   "cell_type": "code",
   "execution_count": 23,
   "metadata": {
    "collapsed": true
   },
   "outputs": [],
   "source": [
    "#!/usr/bin/env python\n",
    "\n",
    "import numpy as np  \n",
    "from sklearn.ensemble import RandomForestClassifier  \n",
    "from numpy import savetxt,loadtxt  "
   ]
  },
  {
   "cell_type": "code",
   "execution_count": 24,
   "metadata": {
    "collapsed": false
   },
   "outputs": [
    {
     "name": "stdout",
     "output_type": "stream",
     "text": [
      "(42000, 784)\n",
      "(42000,)\n",
      "(28000, 784)\n"
     ]
    }
   ],
   "source": [
    "# label,pixel0,pixel1,pixel2,pixel3,pixel4 ...\n",
    "# 4,0,17,0,0,15 ...\n",
    "# 5,0,0,0,0,0 ...\n",
    "train_data = loadtxt('./train.csv', delimiter=',',skiprows=1)  \n",
    "train_features = np.array([x[1:] for x in train_data])  \n",
    "train_labels = np.array([x[0] for x in train_data]) \n",
    "print train_features.shape \n",
    "print train_labels.shape  \n",
    "\n",
    "test_features = loadtxt('./test.csv', delimiter=',',skiprows=1)  \n",
    "print test_features.shape  "
   ]
  },
  {
   "cell_type": "code",
   "execution_count": 25,
   "metadata": {
    "collapsed": false
   },
   "outputs": [],
   "source": [
    "# Define the model\n",
    "model = RandomForestClassifier(n_estimators=2) \n",
    "model = model.fit(train_features, train_labels)  "
   ]
  },
  {
   "cell_type": "code",
   "execution_count": 26,
   "metadata": {
    "collapsed": false
   },
   "outputs": [
    {
     "name": "stdout",
     "output_type": "stream",
     "text": [
      "[[ 0.  0.  0. ...,  0.  0.  0.]\n",
      " [ 0.  0.  0. ...,  0.  0.  0.]\n",
      " [ 0.  0.  0. ...,  0.  0.  0.]\n",
      " ..., \n",
      " [ 0.  0.  0. ...,  0.  0.  0.]\n",
      " [ 0.  0.  0. ...,  0.  0.  0.]\n",
      " [ 0.  0.  0. ...,  0.  0.  0.]]\n",
      "[ 2.  0.  9. ...,  3.  9.  2.]\n"
     ]
    }
   ],
   "source": [
    "# Run predict\n",
    "predict_labels = model.predict(test_features)\n",
    "print(test_features)\n",
    "print(predict_labels)"
   ]
  },
  {
   "cell_type": "code",
   "execution_count": 30,
   "metadata": {
    "collapsed": false
   },
   "outputs": [
    {
     "name": "stdout",
     "output_type": "stream",
     "text": [
      "[[1, 2.0], [2, 0.0], [3, 9.0], [4, 0.0], [5, 3.0], [6, 3.0], [7, 0.0], [8, 3.0], [9, 0.0], [10, 3.0]]\n",
      "Save to mnist_result.csv\n"
     ]
    }
   ],
   "source": [
    "# Save the result\n",
    "result = [[index+1, predict_label] for index, predict_label in enumerate(predict_labels)]  \n",
    "print(result[:10])\n",
    "\n",
    "savetxt('./mnist_result.csv', pred, delimiter=',', fmt='%d,%d', header='ImageId,Label', comments='')  \n",
    "print 'Save to mnist_result.csv'  "
   ]
  },
  {
   "cell_type": "code",
   "execution_count": null,
   "metadata": {
    "collapsed": true
   },
   "outputs": [],
   "source": []
  }
 ],
 "metadata": {
  "kernelspec": {
   "display_name": "Python 2",
   "language": "python",
   "name": "python2"
  },
  "language_info": {
   "codemirror_mode": {
    "name": "ipython",
    "version": 2
   },
   "file_extension": ".py",
   "mimetype": "text/x-python",
   "name": "python",
   "nbconvert_exporter": "python",
   "pygments_lexer": "ipython2",
   "version": "2.7.10"
  }
 },
 "nbformat": 4,
 "nbformat_minor": 0
}
